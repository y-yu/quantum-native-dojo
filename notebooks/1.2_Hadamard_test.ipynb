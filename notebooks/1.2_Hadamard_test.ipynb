{
 "cells": [
  {
   "cell_type": "markdown",
   "metadata": {},
   "source": [
    "### アダマールテストと位相推定"
   ]
  },
  {
   "cell_type": "markdown",
   "metadata": {},
   "source": [
    "さて、一通り準備がととのったので、固有値を求める量子アルゴリズムについて解説しよう。まず、アダマールテストとよばれる以下のような量子回路（figure01.pdf）を考える。真ん中にある制御ユニタリ演算$\\Lambda(U)$は、上の量子ビットが$|0\\rangle$の場合にはなにもせず、$|1\\rangle$の場合には$U$を作用させるユニタリ演算である。"
   ]
  },
  {
   "cell_type": "markdown",
   "metadata": {},
   "source": [
    "$$\n",
    "\\Lambda (U) = |0\\rangle \\langle 0| \\otimes I + |1\\rangle \\langle 1|  \\otimes U\n",
    "$$"
   ]
  },
  {
   "cell_type": "markdown",
   "metadata": {},
   "source": [
    "つまり、１つ目の量子ビットが$|0\\rangle$か$|1\\rangle$かによって条件分岐して「なにもしない」、「$U$を作用させる」という演算が実行される。従来のコンピュータでは条件分岐は同時に実行することができないが、量子コンピュータでは重ね合わせとして、同時並列的に実行することができる。"
   ]
  },
  {
   "cell_type": "markdown",
   "metadata": {},
   "source": [
    "さて、アダマールテストの説明に戻ろう。最初は簡単のために量子状態$|\\psi \\rangle$を\n",
    "ユニタリー演算（行列）$U$の固有値$e^{i \\lambda}$の固有状態（固有ベクトル）とする：\n",
    "\\begin{eqnarray}\n",
    "U|\\psi \\rangle = e^{i \\lambda} |\\psi\\rangle.\n",
    "\\end{eqnarray}"
   ]
  },
  {
   "cell_type": "markdown",
   "metadata": {},
   "source": [
    "ステップ1までの計算で\n",
    "\\begin{eqnarray}\n",
    "\\frac{1}{\\sqrt{2}} (|0\\rangle  + |1\\rangle) \\otimes |\\psi  \\rangle \n",
    "\\end{eqnarray}\n",
    "が得られる。\n",
    "ステップ２で制御$U$演算を作用させることによって、\n",
    "**固有値が１つめの量子ビットの相対位相として得られる**（これは位相キックバックとしばしば呼ばれている）:\n",
    "\\begin{eqnarray}\n",
    "&&\\frac{1}{\\sqrt{2}} (|0\\rangle \\otimes |\\psi  \\rangle  \n",
    "+ |1\\rangle \\otimes U|\\psi \\rangle )\n",
    "\\\\\n",
    "&=&\\frac{1}{\\sqrt{2}} (|0\\rangle \\otimes |\\psi  \\rangle  \n",
    "+e^{i \\lambda} |1\\rangle \\otimes |\\psi \\rangle )\n",
    "\\\\\n",
    "&=&\n",
    "\\frac{1}{\\sqrt{2}} (|0\\rangle   \n",
    "+e^{i \\lambda} |1\\rangle )\\otimes |\\psi  \\rangle.\n",
    "\\end{eqnarray}\n",
    "最後のステップ３のアダマール演算によって\n",
    "\\begin{eqnarray}\n",
    "\\left(\\frac{1+e^{i\\lambda}}{2}|0\\rangle  \n",
    "+\\frac{1-e^{i\\lambda}}{2} |1\\rangle \\right)\\otimes |\\psi  \\rangle \n",
    "\\label{eq01}\n",
    "\\end{eqnarray}\n",
    "が得られる。\n",
    "一つ目の量子ビットを測定すると測定結果$m=0,1$を得る確率は\n",
    "\\begin{eqnarray}\n",
    "p_{m}=\\left|\\frac{1+(-1)^m e^{i\\lambda}}{2}\\right|^2 =\\frac{1+(-1)^m \\cos \\lambda}{2}\n",
    "\\end{eqnarray}\n",
    "となる\n",
    "$|\\psi \\rangle$、$U$、$\\langle \\psi |$は\n",
    "それぞれ$2^n$次元の列ベクトル、$2^n \\times 2^n$行列、\n",
    "$2^n$次元の行ベクトルなので、\n",
    "このアダマールテストを古典コンピュータ上で愚直に計算すると\n",
    "指数的に大きなメモリーの確保と演算回数が必要になる。\n",
    "一方で、量子コンピューターでは、\n",
    "確率分布$p_m$のもとで$m$がサンプルされる。\n",
    "$\\cos \\lambda$を\n",
    "ある誤差$\\epsilon$で推定したい場合は、\n",
    "その逆数$1/\\epsilon$の多項式回程度サンプルすればよいことになる。"
   ]
  },
  {
   "cell_type": "markdown",
   "metadata": {},
   "source": [
    "さらに、固有値が$\\pm 1$の場合にはこのアダマールテストによって、固有ベクトルを得ることができる。たとえば、$U=H$の場合を考えてみよう。補助量子ビットを$|0\\rangle$、アダマールテストの入力$|\\psi\\rangle$も$|0\\rangle$とする。"
   ]
  },
  {
   "cell_type": "code",
   "execution_count": 13,
   "metadata": {},
   "outputs": [],
   "source": [
    "from IPython.display import Image, display_png\n",
    "from sympy import *\n",
    "from sympy.physics.quantum import *\n",
    "from sympy.physics.quantum.qubit import Qubit,QubitBra\n",
    "init_printing() # ベクトルや行列を綺麗に表示するため\n",
    "from sympy.physics.quantum.gate import X,Y,Z,H,S,T,CNOT,SWAP,CPHASE,CGateS\n",
    "from IPython.display import Image, display_png\n",
    "from sympy import *\n",
    "\n",
    "\n",
    "state = Qubit('00')"
   ]
  },
  {
   "cell_type": "markdown",
   "metadata": {},
   "source": [
    "制御H演算は、`CGateS()`を用いて"
   ]
  },
  {
   "cell_type": "code",
   "execution_count": 3,
   "metadata": {},
   "outputs": [
    {
     "data": {
      "text/latex": [
       "$$\\left[\\begin{matrix}1 & 0 & 0 & 0\\\\0 & 1 & 0 & 0\\\\0 & 0 & \\frac{\\sqrt{2}}{2} & \\frac{1}{\\sqrt{2}}\\\\0 & 0 & \\frac{1}{\\sqrt{2}} & - \\frac{\\sqrt{2}}{2}\\end{matrix}\\right]$$"
      ],
      "text/plain": [
       "⎡1  0  0    0  ⎤\n",
       "⎢              ⎥\n",
       "⎢0  1  0    0  ⎥\n",
       "⎢              ⎥\n",
       "⎢      √2   1  ⎥\n",
       "⎢0  0  ──   ── ⎥\n",
       "⎢      2    √2 ⎥\n",
       "⎢              ⎥\n",
       "⎢      1   -√2 ⎥\n",
       "⎢0  0  ──  ────⎥\n",
       "⎣      √2   2  ⎦"
      ]
     },
     "execution_count": 3,
     "metadata": {},
     "output_type": "execute_result"
    }
   ],
   "source": [
    "ctrlH = CGateS(1,H(0))\n",
    "represent(ctrlH,nqubits=2)"
   ]
  },
  {
   "cell_type": "markdown",
   "metadata": {},
   "source": [
    "測定前の状態は、"
   ]
  },
  {
   "cell_type": "code",
   "execution_count": 4,
   "metadata": {},
   "outputs": [
    {
     "data": {
      "text/latex": [
       "$$H_{1} C_{1}{\\left(H_{0}\\right)} H_{1} {\\left|00\\right\\rangle }$$"
      ],
      "text/plain": [
       "H ⋅C ⎛H ⎞⋅H ⋅❘00⟩\n",
       " 1  1⎝ 0⎠  1     "
      ]
     },
     "execution_count": 4,
     "metadata": {},
     "output_type": "execute_result"
    }
   ],
   "source": [
    "H(1)*ctrlH*H(1)*state"
   ]
  },
  {
   "cell_type": "code",
   "execution_count": 5,
   "metadata": {},
   "outputs": [
    {
     "data": {
      "text/latex": [
       "$$\\frac{\\sqrt{2} {\\left|00\\right\\rangle }}{4} + \\frac{{\\left|00\\right\\rangle }}{2} + \\frac{\\sqrt{2} {\\left|01\\right\\rangle }}{4} - \\frac{\\sqrt{2} {\\left|10\\right\\rangle }}{4} + \\frac{{\\left|10\\right\\rangle }}{2} - \\frac{\\sqrt{2} {\\left|11\\right\\rangle }}{4}$$"
      ],
      "text/plain": [
       "√2⋅❘00⟩   ❘00⟩   √2⋅❘01⟩   √2⋅❘10⟩   ❘10⟩   √2⋅❘11⟩\n",
       "─────── + ──── + ─────── - ─────── + ──── - ───────\n",
       "   4       2        4         4       2        4   "
      ]
     },
     "execution_count": 5,
     "metadata": {},
     "output_type": "execute_result"
    }
   ],
   "source": [
    "qapply(H(1)*ctrlH*H(1)*state)"
   ]
  },
  {
   "cell_type": "markdown",
   "metadata": {},
   "source": [
    "測定は、測定用の関数が用意されており、１つめの量子ビットの測定は`measure_partial`を用いて得ることができる。`measure_partial`では測定後の状態と測定の確率がリストとして出力される。１つめの量子ビットが0だった場合の量子状態は[0][0]要素を参照すればよいので、"
   ]
  },
  {
   "cell_type": "code",
   "execution_count": 6,
   "metadata": {},
   "outputs": [
    {
     "data": {
      "text/latex": [
       "$$\\frac{\\left(\\sqrt{2} + 2\\right) {\\left|00\\right\\rangle } + \\sqrt{2} {\\left|01\\right\\rangle }}{2 \\sqrt{\\sqrt{2} + 2}}$$"
      ],
      "text/plain": [
       "(√2 + 2)⋅❘00⟩ + √2⋅❘01⟩\n",
       "───────────────────────\n",
       "          ________     \n",
       "      2⋅╲╱ √2 + 2      "
      ]
     },
     "execution_count": 6,
     "metadata": {},
     "output_type": "execute_result"
    }
   ],
   "source": [
    "from sympy.physics.quantum.qubit import measure_all, measure_partial, measure_all_oneshot, measure_partial_oneshot\n",
    "measured_state_zero = measure_partial(qapply(H(1)*ctrlH*H(1)*state),(1))[0][0]\n",
    "simplify(measured_state_zero)"
   ]
  },
  {
   "cell_type": "markdown",
   "metadata": {},
   "source": [
    "これがHの固有ベクトルであることは、２つめの量子ビットにHを作用させると（sumpyのインデックスは１つめが1、２つめが0になるよう対応させていることに注意）、"
   ]
  },
  {
   "cell_type": "code",
   "execution_count": 7,
   "metadata": {},
   "outputs": [
    {
     "data": {
      "text/latex": [
       "$$\\frac{\\sqrt{2} {\\left|00\\right\\rangle } + 2 {\\left|00\\right\\rangle } + \\sqrt{2} {\\left|01\\right\\rangle }}{2 \\sqrt{\\sqrt{2} + 2}}$$"
      ],
      "text/plain": [
       "√2⋅❘00⟩ + 2⋅❘00⟩ + √2⋅❘01⟩\n",
       "──────────────────────────\n",
       "           ________       \n",
       "       2⋅╲╱ √2 + 2        "
      ]
     },
     "execution_count": 7,
     "metadata": {},
     "output_type": "execute_result"
    }
   ],
   "source": [
    "simplify(qapply(H(0)*measured_state_zero))"
   ]
  },
  {
   "cell_type": "markdown",
   "metadata": {},
   "source": [
    "となりもとに戻る。固有状態であることがわかった。同様に1の測定結果を得た場合は、固有値-1の固有状態であることも確認できるので試してもらいたい。"
   ]
  },
  {
   "cell_type": "code",
   "execution_count": 8,
   "metadata": {},
   "outputs": [
    {
     "data": {
      "text/latex": [
       "$$\\frac{- 2 {\\left|10\\right\\rangle } + \\sqrt{2} {\\left|10\\right\\rangle } + \\sqrt{2} {\\left|11\\right\\rangle }}{2 \\sqrt{- \\sqrt{2} + 2}}$$"
      ],
      "text/plain": [
       "-2⋅❘10⟩ + √2⋅❘10⟩ + √2⋅❘11⟩\n",
       "───────────────────────────\n",
       "           _________       \n",
       "       2⋅╲╱ -√2 + 2        "
      ]
     },
     "execution_count": 8,
     "metadata": {},
     "output_type": "execute_result"
    }
   ],
   "source": [
    "measured_state_one = measure_partial(qapply(H(1)*ctrlH*H(1)*state),(1,))[1][0]\n",
    "simplify(qapply(H(0)*measured_state_one))"
   ]
  },
  {
   "cell_type": "markdown",
   "metadata": {},
   "source": [
    "固有値が$\\pm 1$ではない場合も、アダマールテストの出力を入力として繰り返すと$U$の固有状態に状態が収束していくので、興味がある人は試してもらいたい。"
   ]
  },
  {
   "cell_type": "markdown",
   "metadata": {},
   "source": [
    "同じ計算を、必ずしも固有ベクトルとは限らない、一般の入力に対して行うと、測定前の状態は、\n",
    "$$\n",
    " |0\\rangle \\frac{I+U}{2} |\\psi \\rangle  +  |1\\rangle  \\frac{I-U}{2} |\\psi \\rangle \n",
    "$$\n",
    "となり、0もしくは1が得られる確率は、\n",
    "$$\n",
    "p_0 = \\frac{1+ {\\rm Re} \\langle \\psi | U | \\psi \\rangle }{2}\n",
    "\\\\\n",
    "p_1 = \\frac{1- {\\rm Re} \\langle \\psi | U | \\psi \\rangle }{2}\n",
    "$$\n",
    "となる。つまり、ベクトル$|\\psi \\rangle$でユニタリ行列Uを挟んだ値をアダマールテストのサンプル結果の推定から\n",
    "計算することができる。もちろん、量子ビット数$n$が大きくなるにつれベクトルや行列の次元は指数的に大きくなるので、愚直に計算する方法は指数的な時間を要する。"
   ]
  },
  {
   "cell_type": "markdown",
   "metadata": {},
   "source": [
    "さっきの$U=H$の例だと、$\\langle 0 | H | 0\\rangle = 1/\\sqrt{2}$であるが実際、`measure_partial`で得られる確率をみてみると、"
   ]
  },
  {
   "cell_type": "code",
   "execution_count": 9,
   "metadata": {},
   "outputs": [
    {
     "data": {
      "text/latex": [
       "$$\\frac{\\sqrt{2}}{4} + \\frac{1}{2}$$"
      ],
      "text/plain": [
       "√2   1\n",
       "── + ─\n",
       "4    2"
      ]
     },
     "execution_count": 9,
     "metadata": {},
     "output_type": "execute_result"
    }
   ],
   "source": [
    "simplify(measure_partial(qapply(H(1)*ctrlH*H(1)*state),(1,))[0][1])"
   ]
  },
  {
   "cell_type": "markdown",
   "metadata": {},
   "source": [
    "となっており、上記の議論と一致していることが確認できる。"
   ]
  },
  {
   "cell_type": "markdown",
   "metadata": {},
   "source": [
    "### 位相推定アルゴリズム"
   ]
  },
  {
   "cell_type": "markdown",
   "metadata": {},
   "source": [
    "最終目標である位相推定アルゴリズムについて紹介する。上記のアダマールテストをより精度が良くなるように、測定側の量子ビットを拡張したのが、Kitaevによって提案された位相推定アルゴリズムである。詳細はともかく、どのような操作ができるアルゴリズムなのかを、まず紹介しよう。\n",
    "　$U$を量子回路として構成できる一般的なユニタリ行列とする。$U$の固有ベクトルと$|{\\rm eigen} _i \\rangle$とし、対応する固有値を$|\\lambda _i \\rangle$とする。ある一般的な量子状態$|\\psi\\rangle$が与えられたとする。これは必ず固有ベクトルで展開できる：\n",
    "$$\n",
    "|\\psi \\rangle = \\sum _i c_i |{\\rm eigen}_i \\rangle\n",
    "$$\n",
    "もちろん具体的にc_iがどのような値になるかはわからなくてよい。このとき位相推定アルゴリズムは、$r$個の補助量子ビットを用いて、入力状態\n",
    "$$\n",
    "|00...0\\rangle | \\psi \\rangle\n",
    "$$\n",
    "を、\n",
    "$$\n",
    "\\sum _i c_i |\\lambda_i \\rangle | {\\rm eigen_i} \\rangle \n",
    "$$\n",
    "へと変換するアルゴリズムのことである。重ね合わせの中にあるそれぞれの固有ベクトルに対応した固有値を$r$個の補助量子ビットへと取り出すアルゴリズムになっている。この状態に対して測定をすると、確率 \n",
    "$$\n",
    "p_i = |c_i |^2\n",
    "$$\n",
    "で、どれか一つの固有ベクトルとその固有値が乱拓される。このアルゴリズムは、素因数分解や分子などのエネルギー計算のための量子化学アルゴリズム、そしてその他多くのアルゴリズムのサブルーチンとして利用されていおり、量子コンピュータが従来コンピュータよりも指数的に高速に特定の問題において解を得られる（と期待されている）最も重要な例である。"
   ]
  },
  {
   "cell_type": "markdown",
   "metadata": {},
   "source": [
    "以下では、入力状態を固有状態$|{\\rm eigen}\\rangle$とその固有値$\\lambda$に限定して、位相推定アルゴリズムを説明していくことにする。しかし、線形和をとっても全く同じ議論が使えるので一般性は失われていない。 アダマールテストでは1つしか測定用の量子ビットを使わなかった。位相推定では、測定用の補助量子ビットとして$r$個の量子ビットを確保する。\n",
    "図（figure02.pdf）のように$r$個の量子ビットを用いて、\n",
    "アダマールテストと同様に制御ユニタリー演算をさよう。\n",
    "ただし、$k$番目（$k=0,1,...,r-1$）の補助量子ビットは制御$U^{2^k}$演算\n",
    "をすることにする。\n",
    "ユニタリー演算$U$の固有値の位相$\\lambda$を$r$ビットの２進小数を用いて\n",
    "\\begin{eqnarray}\n",
    "\\lambda = (2\\pi) 0.j_1 j_2...j_r\n",
    "\\end{eqnarray}\n",
    "と書いておく。２進小数は$0.1=1/2、0.01=1/4、0.11=3/4$のように１未満の実数をビット列で表示したものだ。\n",
    "アダマールテストと同様に\n",
    "$k$番目のプローブ量子ビットには$e^{i \\lambda 2^k}$\n",
    "の位相が獲得される（位相キックバック）ので\n",
    "\\begin{eqnarray}\n",
    "\\bigotimes _{k=0}^{r-1} \\frac{|0\\rangle + e^{i (2\\pi)0.j_{r-k}...j_r} |1\\rangle }{\\sqrt{2}}\n",
    "\\otimes |{\\rm eigen} \\rangle\n",
    "\\end{eqnarray}\n",
    "のような状態が得られていることになる。\n",
    "固有値の位相が２進数小数表示で1ビットずつシフトしたものが\n",
    "各プローブ量子ビットに格納されている。\n",
    "この$r$個のプローブ量子ビットに対してフーリエ変換（の逆）の量子版、逆量子フーリエ変換\n",
    "\\begin{eqnarray}\n",
    "\\bigotimes _{k=0}^{r-1} \\frac{|0\\rangle + e^{i (2\\pi)0.j_{r-k}...j_r} |1\\rangle }{\\sqrt{2}}\n",
    "\\rightarrow |j_1...j_r\\rangle\n",
    "\\end{eqnarray}\n",
    "を作用させると、プローブ量子ビットに\n",
    "ビット列 $j_1...j_r$ が得られ、位相の２進小数が得られる。\n",
    "これが位相推定アルゴリズムである。逆量子フーリエ変換の構成方法については例題でみていくことにする。"
   ]
  },
  {
   "cell_type": "markdown",
   "metadata": {},
   "source": [
    "SymPyで具体例を見ていこう。T演算とS演算を用いて以下のような4×4行列をつくる。"
   ]
  },
  {
   "cell_type": "code",
   "execution_count": 26,
   "metadata": {},
   "outputs": [
    {
     "data": {
      "text/latex": [
       "$$\\left[\\begin{matrix}1 & 0\\\\0 & e^{\\frac{i \\pi}{4}}\\end{matrix}\\right]$$"
      ],
      "text/plain": [
       "⎡1   0  ⎤\n",
       "⎢       ⎥\n",
       "⎢    ⅈ⋅π⎥\n",
       "⎢    ───⎥\n",
       "⎢     4 ⎥\n",
       "⎣0  ℯ   ⎦"
      ]
     },
     "execution_count": 26,
     "metadata": {},
     "output_type": "execute_result"
    }
   ],
   "source": [
    "represent(T(0), nqubits=1)"
   ]
  },
  {
   "cell_type": "code",
   "execution_count": 28,
   "metadata": {},
   "outputs": [
    {
     "data": {
      "text/latex": [
       "$$0$$"
      ],
      "text/plain": [
       "0"
      ]
     },
     "execution_count": 28,
     "metadata": {},
     "output_type": "execute_result"
    }
   ],
   "source": [
    "represent(S(0), nqubits=1)"
   ]
  },
  {
   "cell_type": "code",
   "execution_count": 23,
   "metadata": {},
   "outputs": [
    {
     "data": {
      "text/latex": [
       "$$\\left[\\begin{matrix}1 & 0 & 0 & 0\\\\0 & e^{\\frac{i \\pi}{4}} & 0 & 0\\\\0 & 0 & 1 & 0\\\\0 & 0 & 0 & e^{\\frac{i \\pi}{4}}\\end{matrix}\\right]$$"
      ],
      "text/plain": [
       "⎡1   0    0   0  ⎤\n",
       "⎢                ⎥\n",
       "⎢    ⅈ⋅π         ⎥\n",
       "⎢    ───         ⎥\n",
       "⎢     4          ⎥\n",
       "⎢0  ℯ     0   0  ⎥\n",
       "⎢                ⎥\n",
       "⎢0   0    1   0  ⎥\n",
       "⎢                ⎥\n",
       "⎢             ⅈ⋅π⎥\n",
       "⎢             ───⎥\n",
       "⎢              4 ⎥\n",
       "⎣0   0    0  ℯ   ⎦"
      ]
     },
     "execution_count": 23,
     "metadata": {},
     "output_type": "execute_result"
    }
   ],
   "source": [
    "represent(T(0)*S(1),nqubits = 2)"
   ]
  },
  {
   "cell_type": "code",
   "execution_count": 21,
   "metadata": {},
   "outputs": [
    {
     "ename": "AttributeError",
     "evalue": "'One' object has no attribute 'targets'",
     "traceback": [
      "\u001b[0;31m---------------------------------------------------------------------------\u001b[0m",
      "\u001b[0;31mAttributeError\u001b[0m                            Traceback (most recent call last)",
      "\u001b[0;32m<ipython-input-21-7415d829ff89>\u001b[0m in \u001b[0;36m<module>\u001b[0;34m\u001b[0m\n\u001b[0;32m----> 1\u001b[0;31m \u001b[0mcP_2\u001b[0m \u001b[0;34m=\u001b[0m \u001b[0mCGateS\u001b[0m\u001b[0;34m(\u001b[0m\u001b[0;36m2\u001b[0m\u001b[0;34m,\u001b[0m\u001b[0mT\u001b[0m\u001b[0;34m(\u001b[0m\u001b[0;36m0\u001b[0m\u001b[0;34m)\u001b[0m\u001b[0;34m)\u001b[0m\u001b[0;34m*\u001b[0m\u001b[0mCGateS\u001b[0m\u001b[0;34m(\u001b[0m\u001b[0;36m2\u001b[0m\u001b[0;34m,\u001b[0m\u001b[0mS\u001b[0m\u001b[0;34m(\u001b[0m\u001b[0;36m1\u001b[0m\u001b[0;34m)\u001b[0m\u001b[0;34m)\u001b[0m\u001b[0;34m\u001b[0m\u001b[0;34m\u001b[0m\u001b[0m\n\u001b[0m\u001b[1;32m      2\u001b[0m \u001b[0mcP_3\u001b[0m \u001b[0;34m=\u001b[0m \u001b[0mCGateS\u001b[0m\u001b[0;34m(\u001b[0m\u001b[0;36m3\u001b[0m\u001b[0;34m,\u001b[0m\u001b[0mT\u001b[0m\u001b[0;34m(\u001b[0m\u001b[0;36m0\u001b[0m\u001b[0;34m)\u001b[0m\u001b[0;34m)\u001b[0m\u001b[0;34m*\u001b[0m\u001b[0mCGateS\u001b[0m\u001b[0;34m(\u001b[0m\u001b[0;36m3\u001b[0m\u001b[0;34m,\u001b[0m\u001b[0mS\u001b[0m\u001b[0;34m(\u001b[0m\u001b[0;36m1\u001b[0m\u001b[0;34m)\u001b[0m\u001b[0;34m)\u001b[0m\u001b[0;34m\u001b[0m\u001b[0;34m\u001b[0m\u001b[0m\n\u001b[1;32m      3\u001b[0m \u001b[0mcP_4\u001b[0m \u001b[0;34m=\u001b[0m \u001b[0mCGateS\u001b[0m\u001b[0;34m(\u001b[0m\u001b[0;36m4\u001b[0m\u001b[0;34m,\u001b[0m\u001b[0mT\u001b[0m\u001b[0;34m(\u001b[0m\u001b[0;36m0\u001b[0m\u001b[0;34m)\u001b[0m\u001b[0;34m)\u001b[0m\u001b[0;34m*\u001b[0m\u001b[0mCGateS\u001b[0m\u001b[0;34m(\u001b[0m\u001b[0;36m4\u001b[0m\u001b[0;34m,\u001b[0m\u001b[0mS\u001b[0m\u001b[0;34m(\u001b[0m\u001b[0;36m1\u001b[0m\u001b[0;34m)\u001b[0m\u001b[0;34m)\u001b[0m\u001b[0;34m\u001b[0m\u001b[0;34m\u001b[0m\u001b[0m\n",
      "\u001b[0;32m/usr/local/lib/python3.7/site-packages/sympy/physics/quantum/qexpr.py\u001b[0m in \u001b[0;36m__new__\u001b[0;34m(cls, *args, **old_assumptions)\u001b[0m\n\u001b[1;32m    130\u001b[0m \u001b[0;34m\u001b[0m\u001b[0m\n\u001b[1;32m    131\u001b[0m         \u001b[0;31m# First compute args and call Expr.__new__ to create the instance\u001b[0m\u001b[0;34m\u001b[0m\u001b[0;34m\u001b[0m\u001b[0;34m\u001b[0m\u001b[0m\n\u001b[0;32m--> 132\u001b[0;31m         \u001b[0margs\u001b[0m \u001b[0;34m=\u001b[0m \u001b[0mcls\u001b[0m\u001b[0;34m.\u001b[0m\u001b[0m_eval_args\u001b[0m\u001b[0;34m(\u001b[0m\u001b[0margs\u001b[0m\u001b[0;34m)\u001b[0m\u001b[0;34m\u001b[0m\u001b[0;34m\u001b[0m\u001b[0m\n\u001b[0m\u001b[1;32m    133\u001b[0m         \u001b[0;32mif\u001b[0m \u001b[0mlen\u001b[0m\u001b[0;34m(\u001b[0m\u001b[0margs\u001b[0m\u001b[0;34m)\u001b[0m \u001b[0;34m==\u001b[0m \u001b[0;36m0\u001b[0m\u001b[0;34m:\u001b[0m\u001b[0;34m\u001b[0m\u001b[0;34m\u001b[0m\u001b[0m\n\u001b[1;32m    134\u001b[0m             \u001b[0margs\u001b[0m \u001b[0;34m=\u001b[0m \u001b[0mcls\u001b[0m\u001b[0;34m.\u001b[0m\u001b[0m_eval_args\u001b[0m\u001b[0;34m(\u001b[0m\u001b[0mtuple\u001b[0m\u001b[0;34m(\u001b[0m\u001b[0mcls\u001b[0m\u001b[0;34m.\u001b[0m\u001b[0mdefault_args\u001b[0m\u001b[0;34m(\u001b[0m\u001b[0;34m)\u001b[0m\u001b[0;34m)\u001b[0m\u001b[0;34m)\u001b[0m\u001b[0;34m\u001b[0m\u001b[0;34m\u001b[0m\u001b[0m\n",
      "\u001b[0;32m/usr/local/lib/python3.7/site-packages/sympy/physics/quantum/gate.py\u001b[0m in \u001b[0;36m_eval_args\u001b[0;34m(cls, args)\u001b[0m\n\u001b[1;32m    340\u001b[0m             \u001b[0mcontrols\u001b[0m \u001b[0;34m=\u001b[0m \u001b[0;34m(\u001b[0m\u001b[0mcontrols\u001b[0m\u001b[0;34m,\u001b[0m\u001b[0;34m)\u001b[0m\u001b[0;34m\u001b[0m\u001b[0;34m\u001b[0m\u001b[0m\n\u001b[1;32m    341\u001b[0m         \u001b[0mcontrols\u001b[0m \u001b[0;34m=\u001b[0m \u001b[0mUnitaryOperator\u001b[0m\u001b[0;34m.\u001b[0m\u001b[0m_eval_args\u001b[0m\u001b[0;34m(\u001b[0m\u001b[0mcontrols\u001b[0m\u001b[0;34m)\u001b[0m\u001b[0;34m\u001b[0m\u001b[0;34m\u001b[0m\u001b[0m\n\u001b[0;32m--> 342\u001b[0;31m         \u001b[0m_validate_targets_controls\u001b[0m\u001b[0;34m(\u001b[0m\u001b[0mchain\u001b[0m\u001b[0;34m(\u001b[0m\u001b[0mcontrols\u001b[0m\u001b[0;34m,\u001b[0m \u001b[0mgate\u001b[0m\u001b[0;34m.\u001b[0m\u001b[0mtargets\u001b[0m\u001b[0;34m)\u001b[0m\u001b[0;34m)\u001b[0m\u001b[0;34m\u001b[0m\u001b[0;34m\u001b[0m\u001b[0m\n\u001b[0m\u001b[1;32m    343\u001b[0m         \u001b[0;32mreturn\u001b[0m \u001b[0;34m(\u001b[0m\u001b[0mTuple\u001b[0m\u001b[0;34m(\u001b[0m\u001b[0;34m*\u001b[0m\u001b[0mcontrols\u001b[0m\u001b[0;34m)\u001b[0m\u001b[0;34m,\u001b[0m \u001b[0mgate\u001b[0m\u001b[0;34m)\u001b[0m\u001b[0;34m\u001b[0m\u001b[0;34m\u001b[0m\u001b[0m\n\u001b[1;32m    344\u001b[0m \u001b[0;34m\u001b[0m\u001b[0m\n",
      "\u001b[0;31mAttributeError\u001b[0m: 'One' object has no attribute 'targets'"
     ],
     "output_type": "error"
    }
   ],
   "source": [
    "cP_2 = CGateS(2,T(0))*CGateS(2,S(1))\n",
    "cP_3 = CGateS(3,T(0))*CGateS(3,S(1))\n",
    "cP_4 = CGateS(4,T(0))*CGateS(4,S(1))"
   ]
  },
  {
   "cell_type": "code",
   "execution_count": null,
   "metadata": {},
   "outputs": [],
   "source": []
  }
 ],
 "metadata": {
  "kernelspec": {
   "display_name": "Python 3",
   "language": "python",
   "name": "python3"
  },
  "language_info": {
   "codemirror_mode": {
    "name": "ipython",
    "version": 3
   },
   "file_extension": ".py",
   "mimetype": "text/x-python",
   "name": "python",
   "nbconvert_exporter": "python",
   "pygments_lexer": "ipython3",
   "version": "3.7.2"
  }
 },
 "nbformat": 4,
 "nbformat_minor": 2
}
